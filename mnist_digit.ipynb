{
  "cells": [
    {
      "cell_type": "code",
      "execution_count": 1,
      "id": "7cef638e",
      "metadata": {
        "id": "7cef638e"
      },
      "outputs": [],
      "source": [
        "import numpy as np\n",
        "import matplotlib.pyplot as plt\n",
        "\n",
        "from keras.datasets import mnist\n",
        "from keras.models import Sequential\n",
        "from keras.layers import Dense, Conv2D, MaxPooling2D, Dropout, Flatten\n",
        "from keras.utils import np_utils\n",
        "# from keras import backend as K"
      ]
    },
    {
      "cell_type": "code",
      "execution_count": 2,
      "id": "255e7217",
      "metadata": {
        "id": "255e7217"
      },
      "outputs": [],
      "source": [
        "seed = 8\n",
        "np.random.seed(seed)"
      ]
    },
    {
      "cell_type": "markdown",
      "id": "feb0cda9",
      "metadata": {
        "id": "feb0cda9"
      },
      "source": [
        "# Dataset:"
      ]
    },
    {
      "cell_type": "code",
      "execution_count": 3,
      "id": "1a2f4bf7",
      "metadata": {
        "colab": {
          "base_uri": "https://localhost:8080/"
        },
        "id": "1a2f4bf7",
        "outputId": "68e73e56-02cb-44bd-f632-966a163e5390"
      },
      "outputs": [
        {
          "output_type": "stream",
          "name": "stdout",
          "text": [
            "Downloading data from https://storage.googleapis.com/tensorflow/tf-keras-datasets/mnist.npz\n",
            "11490434/11490434 [==============================] - 1s 0us/step\n"
          ]
        }
      ],
      "source": [
        "(X_train, Y_train), (X_test, Y_test) = mnist.load_data()"
      ]
    },
    {
      "cell_type": "code",
      "execution_count": 4,
      "id": "2500e471",
      "metadata": {
        "id": "2500e471"
      },
      "outputs": [],
      "source": [
        "X_train = X_train.reshape(X_train.shape[0],28,28,1).astype('float32')\n",
        "X_test=X_test.reshape(X_test.shape[0],28,28,1).astype('float32')\n",
        "inp_shape=(28,28,1)\n",
        "Y_train = np_utils.to_categorical(Y_train,10)\n",
        "Y_test = np_utils.to_categorical(Y_test,10)\n",
        "X_train/=255.0\n",
        "X_test/=255.0\n",
        "nc = Y_test.shape[1]"
      ]
    },
    {
      "cell_type": "markdown",
      "id": "2515ea41",
      "metadata": {
        "id": "2515ea41"
      },
      "source": [
        "# Model:"
      ]
    },
    {
      "cell_type": "code",
      "execution_count": 7,
      "id": "3ef41278",
      "metadata": {
        "id": "3ef41278"
      },
      "outputs": [],
      "source": [
        "model = Sequential()\n",
        "model.add(Conv2D(32, (5,5), input_shape = (28,28,1), activation='relu'))\n",
        "model.add(MaxPooling2D((2,2)))\n",
        "model.add(Conv2D(16, (3, 3), activation='relu'))\n",
        "model.add(MaxPooling2D((2,2)))\n",
        "model.add(Dropout(0.2))\n",
        "model.add(Flatten())\n",
        "model.add(Dense(128, activation='relu'))\n",
        "model.add(Dense(64, activation='relu'))\n",
        "model.add(Dense(10, activation='softmax'))\n",
        "          \n",
        "model.compile(loss='categorical_crossentropy', optimizer='adam', metrics=['accuracy'])"
      ]
    },
    {
      "cell_type": "code",
      "execution_count": 8,
      "id": "0902e9bd",
      "metadata": {
        "colab": {
          "base_uri": "https://localhost:8080/"
        },
        "id": "0902e9bd",
        "outputId": "64473f16-3dc7-44e8-dde6-44c96f32e627"
      },
      "outputs": [
        {
          "output_type": "stream",
          "name": "stdout",
          "text": [
            "Epoch 1/10\n",
            "300/300 [==============================] - 10s 9ms/step - loss: 0.3655 - accuracy: 0.8864 - val_loss: 0.0774 - val_accuracy: 0.9757\n",
            "Epoch 2/10\n",
            "300/300 [==============================] - 2s 6ms/step - loss: 0.0899 - accuracy: 0.9729 - val_loss: 0.0458 - val_accuracy: 0.9853\n",
            "Epoch 3/10\n",
            "300/300 [==============================] - 2s 6ms/step - loss: 0.0631 - accuracy: 0.9805 - val_loss: 0.0364 - val_accuracy: 0.9882\n",
            "Epoch 4/10\n",
            "300/300 [==============================] - 2s 5ms/step - loss: 0.0542 - accuracy: 0.9830 - val_loss: 0.0337 - val_accuracy: 0.9888\n",
            "Epoch 5/10\n",
            "300/300 [==============================] - 2s 5ms/step - loss: 0.0459 - accuracy: 0.9859 - val_loss: 0.0285 - val_accuracy: 0.9907\n",
            "Epoch 6/10\n",
            "300/300 [==============================] - 2s 5ms/step - loss: 0.0392 - accuracy: 0.9875 - val_loss: 0.0284 - val_accuracy: 0.9913\n",
            "Epoch 7/10\n",
            "300/300 [==============================] - 2s 5ms/step - loss: 0.0359 - accuracy: 0.9885 - val_loss: 0.0215 - val_accuracy: 0.9926\n",
            "Epoch 8/10\n",
            "300/300 [==============================] - 2s 5ms/step - loss: 0.0331 - accuracy: 0.9894 - val_loss: 0.0237 - val_accuracy: 0.9921\n",
            "Epoch 9/10\n",
            "300/300 [==============================] - 2s 5ms/step - loss: 0.0301 - accuracy: 0.9905 - val_loss: 0.0243 - val_accuracy: 0.9914\n",
            "Epoch 10/10\n",
            "300/300 [==============================] - 2s 6ms/step - loss: 0.0283 - accuracy: 0.9907 - val_loss: 0.0229 - val_accuracy: 0.9931\n"
          ]
        },
        {
          "output_type": "execute_result",
          "data": {
            "text/plain": [
              "<keras.callbacks.History at 0x7f46b067ff40>"
            ]
          },
          "metadata": {},
          "execution_count": 8
        }
      ],
      "source": [
        "model.fit(X_train, Y_train, validation_data=(X_test, Y_test), epochs = 10, batch_size = 200)"
      ]
    },
    {
      "cell_type": "markdown",
      "id": "ee51229a",
      "metadata": {
        "id": "ee51229a"
      },
      "source": [
        "# Evaluation and Testing:"
      ]
    },
    {
      "cell_type": "code",
      "execution_count": 10,
      "id": "aea5e282",
      "metadata": {
        "colab": {
          "base_uri": "https://localhost:8080/"
        },
        "id": "aea5e282",
        "outputId": "d0e61b12-abb8-41c2-f515-a8075745649b"
      },
      "outputs": [
        {
          "output_type": "stream",
          "name": "stdout",
          "text": [
            "CNN Error: 0.69%\n"
          ]
        }
      ],
      "source": [
        "#Evaluation\n",
        "ev = model.evaluate(X_test, Y_test, verbose=0)\n",
        "print(\"CNN Error: %.2f%%\" % (100 - ev[1]*100))"
      ]
    },
    {
      "cell_type": "code",
      "execution_count": 16,
      "id": "93229a6c",
      "metadata": {
        "colab": {
          "base_uri": "https://localhost:8080/",
          "height": 420
        },
        "id": "93229a6c",
        "outputId": "9c31b23d-2c03-41f1-fd2e-9dc86a7d84eb"
      },
      "outputs": [
        {
          "output_type": "stream",
          "name": "stdout",
          "text": [
            "Test images shape: (4, 28, 28)\n",
            "Predicted digit: [1.0475094e-06 6.5935740e-07 9.9999833e-01 1.6935626e-12 4.7717202e-10\n",
            " 2.4552156e-15 3.5338088e-09 7.0070277e-10 2.5065949e-10 5.0487652e-13]\n",
            "Predicted digit: [1.5518341e-07 9.9995363e-01 4.0033365e-06 1.0789414e-08 1.8694700e-05\n",
            " 2.2676581e-08 1.3082087e-06 2.1266454e-05 7.8533589e-07 1.7259045e-07]\n",
            "Predicted digit: [9.9999785e-01 3.3934476e-13 1.4458586e-08 9.5930430e-10 1.5750306e-08\n",
            " 8.3129976e-08 1.6928176e-06 3.4211514e-10 9.0874771e-08 2.3625559e-07]\n",
            "Predicted digit: [7.7564138e-08 5.2869387e-10 1.4466057e-08 9.3751749e-11 9.9998033e-01\n",
            " 2.3047737e-09 1.0528847e-08 1.3399941e-07 5.4444381e-08 1.9393599e-05]\n"
          ]
        },
        {
          "output_type": "display_data",
          "data": {
            "text/plain": [
              "<Figure size 432x288 with 4 Axes>"
            ],
            "image/png": "[encoded data removed]"
          },
          "metadata": {
            "needs_background": "light"
          }
        }
      ],
      "source": [
        "#Testing\n",
        "test_images = X_test[1:5]\n",
        "test_images = test_images.reshape(test_images.shape[0], 28, 28)\n",
        "print (\"Test images shape: {}\".format(test_images.shape))\n",
        "\n",
        "for i, test_image in enumerate(test_images, start=1):\n",
        "    org_image = test_image\n",
        "    test_image = test_image.reshape(1,28,28,1)\n",
        "    prediction = model.predict(test_image, verbose=0)\n",
        "\n",
        "    print (\"Predicted digit: {}\".format(prediction[0]))\n",
        "    plt.subplot(220+i)\n",
        "    plt.axis('off')\n",
        "    plt.title(\"Predicted digit: {}\".format(np.argmax(prediction[0])))\n",
        "    plt.imshow(org_image, cmap=plt.get_cmap('gray'))\n",
        "\n",
        "plt.show()"
      ]
    },
    {
      "cell_type": "markdown",
      "id": "80fa9e29",
      "metadata": {
        "id": "80fa9e29"
      },
      "source": [
        "# Saving Model:"
      ]
    },
    {
      "cell_type": "code",
      "execution_count": 17,
      "id": "a3ae1c70",
      "metadata": {
        "colab": {
          "base_uri": "https://localhost:8080/"
        },
        "id": "a3ae1c70",
        "outputId": "764031b6-53fc-40c9-de48-4671d5312b9f"
      },
      "outputs": [
        {
          "output_type": "stream",
          "name": "stdout",
          "text": [
            "Model Saved\n"
          ]
        }
      ],
      "source": [
        "model_json = model.to_json()\n",
        "with open(\"model.json\", \"w\") as json_file:\n",
        "    json_file.write(model_json)\n",
        "# serialize weights to HDF5\n",
        "model.save_weights(\"model.h5\")\n",
        "print(\"Model Saved\")"
      ]
    }
  ],
  "metadata": {
    "kernelspec": {
      "display_name": "Python 3",
      "language": "python",
      "name": "python3"
    },
    "language_info": {
      "codemirror_mode": {
        "name": "ipython",
        "version": 3
      },
      "file_extension": ".py",
      "mimetype": "text/x-python",
      "name": "python",
      "nbconvert_exporter": "python",
      "pygments_lexer": "ipython3",
      "version": "3.9.4"
    },
    "colab": {
      "provenance": []
    },
    "accelerator": "GPU",
    "gpuClass": "standard"
  },
  "nbformat": 4,
  "nbformat_minor": 5
}